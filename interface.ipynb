{
 "cells": [
  {
   "cell_type": "code",
   "execution_count": 1,
   "id": "initial_id",
   "metadata": {
    "collapsed": true,
    "ExecuteTime": {
     "end_time": "2024-10-09T14:40:51.981146Z",
     "start_time": "2024-10-09T14:40:51.589269Z"
    }
   },
   "outputs": [],
   "source": [
    "from CQD import CQDCollection\n",
    "from openpyxl import Workbook"
   ]
  },
  {
   "cell_type": "code",
   "outputs": [
    {
     "name": "stdout",
     "output_type": "stream",
     "text": [
      "plate=27, well=21 no sample initialized. Discarding data!\n",
      "plate=27, well=21 no sample initialized. Discarding data!\n",
      "plate=27, well=21 no sample initialized. Discarding data!\n",
      "plate=27, well=22 no sample initialized. Discarding data!\n",
      "plate=27, well=22 no sample initialized. Discarding data!\n",
      "plate=27, well=22 no sample initialized. Discarding data!\n",
      "plate=27, well=23 no sample initialized. Discarding data!\n",
      "plate=27, well=23 no sample initialized. Discarding data!\n",
      "plate=27, well=23 no sample initialized. Discarding data!\n",
      "plate=27, well=24 no sample initialized. Discarding data!\n",
      "plate=27, well=24 no sample initialized. Discarding data!\n",
      "plate=27, well=24 no sample initialized. Discarding data!\n"
     ]
    },
    {
     "name": "stderr",
     "output_type": "stream",
     "text": [
      "/Users/kasper/Documents/kvantpricksjakten/kvantpricksjakten/CQD/CQDCollection.py:287: RuntimeWarning: Mean of empty slice.\n",
      "  mean_y = bg_abs_ys.mean(axis=0)\n",
      "/Users/kasper/Documents/kvantpricksjakten/kvantpricksjakten/.venv/lib/python3.12/site-packages/numpy/_core/_methods.py:147: RuntimeWarning: invalid value encountered in scalar divide\n",
      "  ret = ret.dtype.type(ret / rcount)\n"
     ]
    }
   ],
   "source": [
    "collection = CQDCollection.read_from_dir('RawData')\n",
    "samples = collection.samples"
   ],
   "metadata": {
    "collapsed": false,
    "ExecuteTime": {
     "end_time": "2024-10-09T14:41:10.827275Z",
     "start_time": "2024-10-09T14:40:52.180648Z"
    }
   },
   "id": "ab6781e64dce2962",
   "execution_count": 2
  },
  {
   "cell_type": "code",
   "outputs": [
    {
     "name": "stdout",
     "output_type": "stream",
     "text": [
      "656 samples found!\n",
      "63 unique klasses found: ['BREGÅRDSSKOLAN A', 'BREGÅRDSSKOLAN B', 'BREGÅRDSSKOLAN C', 'BREGÅRDSSKOLAN D', 'BREGÅRDSSKOLAN E', 'CARLSHÖJDSSKOLAN', 'DJURÖ SKOLA A', 'DJURÖ SKOLA B', 'EKETÄNGA', 'EKLIDEN A', 'EKLIDEN B', 'ELEN WÄGNERSKOLAN A', 'ELEN WÄGNERSKOLAN B', 'ELEN WÄGNERSKOLAN C', 'ELEN WÄGNERSKOLAN D', 'FOLKUNGASKOLAN', 'GÖINGESKOLAN A', 'GÖINGESKOLAN B', 'HALLENS SKOLA', 'LIDENS SKOLA', 'LINDSDALSSKOLAN A', 'LINDSDALSSKOLAN B', 'LINDSDALSSKOLAN C', 'LINDSDALSSKOLAN D', 'LINDSDALSSKOLAN E', 'MONTESSORISKOLAN FLODA SÄTERI', 'MONTESSORISKOLAN NORRTÄLJE', 'MONTESSORISKOLAN NÖRRTÄLJE', 'MÖRBYSKOLAN 9A', 'MÖRBYSKOLAN 9B', 'MÖRBYSKOLAN 9C', 'MÖRBYSKOLAN 9D', 'MÖRBYSKOLAN 9E', 'MÖRBYSKOLAN 9F', 'NAVET SKOLA', 'NOBLASKOLAN MARIASTADEN', 'NOT HAGAVIKSKOLAN A', 'NOT HAGAVIKSKOLAN B', 'NYA MUNKEN', 'OBSERVATORIELUNDENS SKOLA A', 'OBSERVATORIELUNDENS SKOLA B', 'ROSLAGSSKOLAN A', 'ROSLAGSSKOLAN B', 'ROSLAGSSKOLAN C', 'ROSLAGSSKOLAN D', 'ROSLAGSSKOLAN E', 'ROSLAGSSKOLAN F', 'ROSLAGSSKOLAN G', 'RUTSBORGSKOLAN A', 'RUTSBORGSKOLAN B', 'RÖNNOWSKOLAN A', 'RÖNNOWSKOLAN B', 'SVENSTAVIKS SKOLA A', 'SVENSTAVIKS SKOLA B', 'TEST CLASS', 'TOFTASKOLAN A', 'TOFTASKOLAN B', 'TOFTASKOLAN C', 'TUNGELSTA SKOLA A, B, C', 'VALLHALLASKOLAN OSKARSHAMN', 'VIDESKOLANS RESURSENHET', 'VÄRNER RYDENSKOLAN A', 'VÄRNER RYDENSKOLAN B']\n"
     ]
    }
   ],
   "source": [
    "print('{} samples found!'.format(len(samples)))\n",
    "\n",
    "u_klass = []\n",
    "[u_klass.append(x.klass) for x in samples if x.klass not in u_klass]\n",
    "u_klass.sort()\n",
    "print('{} unique klasses found: {}'.format(len(u_klass), u_klass))"
   ],
   "metadata": {
    "collapsed": false,
    "ExecuteTime": {
     "end_time": "2024-10-09T14:42:02.816140Z",
     "start_time": "2024-10-09T14:42:02.808741Z"
    }
   },
   "id": "156b2e46a60c0bf9",
   "execution_count": 3
  },
  {
   "cell_type": "code",
   "outputs": [],
   "source": [
    "def write_files(samps):\n",
    "    u_klass = []\n",
    "    [u_klass.append(x.klass) for x in samps if x.klass not in u_klass]\n",
    "    \n",
    "    for k in u_klass:\n",
    "        wb = Workbook()\n",
    "        del wb['Sheet']\n",
    "        klass_samples = list(filter(lambda x: x.klass == k, samps))\n",
    "        for samp in klass_samples:\n",
    "            samp.write_work_sheet(wb)\n",
    "        wb.save('OutputFiles/{}.xlsx'.format(k)) #Wierd behaviour when checking case\n",
    "        wb.close()\n",
    "        \n",
    "write_files(samples)"
   ],
   "metadata": {
    "collapsed": false,
    "ExecuteTime": {
     "end_time": "2024-10-09T14:42:24.921570Z",
     "start_time": "2024-10-09T14:42:05.696270Z"
    }
   },
   "id": "2c474335fc3cf75a",
   "execution_count": 4
  },
  {
   "cell_type": "code",
   "outputs": [],
   "source": [],
   "metadata": {
    "collapsed": false
   },
   "id": "49665251bd54ed9c"
  }
 ],
 "metadata": {
  "kernelspec": {
   "display_name": "Python 3",
   "language": "python",
   "name": "python3"
  },
  "language_info": {
   "codemirror_mode": {
    "name": "ipython",
    "version": 2
   },
   "file_extension": ".py",
   "mimetype": "text/x-python",
   "name": "python",
   "nbconvert_exporter": "python",
   "pygments_lexer": "ipython2",
   "version": "2.7.6"
  }
 },
 "nbformat": 4,
 "nbformat_minor": 5
}
