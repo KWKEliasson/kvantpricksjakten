{
 "cells": [
  {
   "cell_type": "code",
   "execution_count": 1,
   "id": "initial_id",
   "metadata": {
    "collapsed": true,
    "ExecuteTime": {
     "end_time": "2024-10-06T11:03:21.787693Z",
     "start_time": "2024-10-06T11:03:21.443498Z"
    }
   },
   "outputs": [],
   "source": [
    "from CQD import CQDCollection\n",
    "from openpyxl import Workbook"
   ]
  },
  {
   "cell_type": "code",
   "outputs": [],
   "source": [
    "collection = CQDCollection.read_from_dir('RawData')\n",
    "samples = collection.samples"
   ],
   "metadata": {
    "collapsed": false,
    "ExecuteTime": {
     "end_time": "2024-10-06T11:03:40.981696Z",
     "start_time": "2024-10-06T11:03:22.458490Z"
    }
   },
   "id": "ab6781e64dce2962",
   "execution_count": 2
  },
  {
   "cell_type": "code",
   "outputs": [
    {
     "name": "stdout",
     "output_type": "stream",
     "text": [
      "636 samples found!\n",
      "63 unique klasses found: ['Mörbyskolan 9A', 'Mörbyskolan 9B', 'Mörbyskolan 9C', 'Mörbyskolan 9D', 'Mörbyskolan 9E', 'Mörbyskolan 9F', 'CARLSHÖJDSSKOLAN', 'EKETÅNGA ', 'EKLIDEN A', 'EKLIDEN B', 'GÖINGESKOLAN A', 'GÖINGESKOLAN B', 'LIDENS SKOLA', 'HALLENS SKOLA', 'LINDSDALSSKOLAN A', 'LINDSDALSSKOLAN B', 'LINDSDALSSKOLAN C', 'LINDSDALSSKOLAN D', 'LINDSDALSSKOLAN E', 'MONTESSORISKOLAN FLODA SÄTERI', 'MONTESSORISKOLAN NORRTÄLJE', 'NOBLASKOLAN MARIASTADEN', 'FOLKUNGASKOLAN', 'NOT HAGAVIKSKOLAN B', 'NOT HAGAVIKSKOLAN A', 'NYA MUNKEN', 'OBSERVATORIELUNDENS SKOLA A', 'OBSERVATORIELUNDENS SKOLA B', 'RÖNNOWSKOLAN A', 'RÖNNOWSKOLAN B', 'ROSLAGSSKOLAN A', 'ROSLAGSSKOLAN D', 'ROSLAGSSKOLAN F', 'RUTSBORGSKOLAN A', 'RUTSBORGSKOLAN B', 'SVENSTAVIKS SKOLA A', 'SVENSTAVIKS SKOLA B', 'Toftaskolan A', 'Toftaskolan B', 'Toftaskolan C', 'Tungelsta skola A, B, C', 'Videskolans resursenhet', 'Djurö skola A', 'Djurö skola B', 'Värner Rydenskolan A', 'Värner Rydenskolan B', 'Navet Skola', 'Roslagskolan E', 'Roslagskolan G', 'Vallhallaskolan Oskarshamn', 'Elen Wägnerskolan A', 'Elen Wägnerskolan B', 'Elen Wägnerskolan C', 'Elen Wägnerskolan D', 'Roslagsskolan C', 'Bregårdsskolan', 'Roslagsskolan B', 'Mörbyskolan F', 'Lindsdalskolan', 'Montessoriskolan Nörrtäljemissing sample', 'NOT Hagavikskolan A', 'NOT Hagavikskolan B', 'Roslagsskolan D']\n"
     ]
    }
   ],
   "source": [
    "print('{} samples found!'.format(len(samples)))\n",
    "\n",
    "u_klass = []\n",
    "[u_klass.append(x.klass) for x in samples if x.klass not in u_klass]\n",
    "print('{} unique klasses found: {}'.format(len(u_klass), u_klass))"
   ],
   "metadata": {
    "collapsed": false,
    "ExecuteTime": {
     "end_time": "2024-10-06T10:20:02.972792Z",
     "start_time": "2024-10-06T10:20:02.968358Z"
    }
   },
   "id": "156b2e46a60c0bf9",
   "execution_count": 3
  },
  {
   "cell_type": "code",
   "outputs": [],
   "source": [
    "def write_files(samples):\n",
    "    u_klass = []\n",
    "    [u_klass.append(x.klass) for x in samples if x.klass not in u_klass]\n",
    "    for k in u_klass:\n",
    "        wb = Workbook()\n",
    "        del wb['Sheet']\n",
    "        for samp in filter(lambda x: x.klass == k, samples):\n",
    "            samp.write_work_sheet(wb)\n",
    "        wb.save('OutputFiles/{}.xlsx'.format(k))\n",
    "        wb.close()\n",
    "        \n",
    "write_files(samples)"
   ],
   "metadata": {
    "collapsed": false,
    "ExecuteTime": {
     "end_time": "2024-10-06T10:20:19.625027Z",
     "start_time": "2024-10-06T10:20:02.976387Z"
    }
   },
   "id": "2c474335fc3cf75a",
   "execution_count": 4
  },
  {
   "cell_type": "code",
   "outputs": [],
   "source": [
    "it = iter(samples)"
   ],
   "metadata": {
    "collapsed": false,
    "ExecuteTime": {
     "end_time": "2024-10-06T11:03:49.237182Z",
     "start_time": "2024-10-06T11:03:49.233638Z"
    }
   },
   "id": "e4bed5fb37f1de56",
   "execution_count": 4
  },
  {
   "cell_type": "code",
   "outputs": [
    {
     "name": "stdout",
     "output_type": "stream",
     "text": [
      "<QDSample spectra:['abs', 'ex350', 'ex400'] label:23014, klass:Mörbyskolan 9A, plate:1, well:5, comment:None>\n",
      "['glycin2', 'PEG-1500']\n"
     ]
    }
   ],
   "source": [
    "samp = next(it)\n",
    "print(samp)\n",
    "print(samp.reactants)"
   ],
   "metadata": {
    "collapsed": false,
    "ExecuteTime": {
     "end_time": "2024-10-06T11:04:01.637367Z",
     "start_time": "2024-10-06T11:04:01.633123Z"
    }
   },
   "id": "dba97237867ed464",
   "execution_count": 9
  },
  {
   "cell_type": "code",
   "outputs": [],
   "source": [],
   "metadata": {
    "collapsed": false
   },
   "id": "2559b05735473e7a"
  }
 ],
 "metadata": {
  "kernelspec": {
   "display_name": "Python 3",
   "language": "python",
   "name": "python3"
  },
  "language_info": {
   "codemirror_mode": {
    "name": "ipython",
    "version": 2
   },
   "file_extension": ".py",
   "mimetype": "text/x-python",
   "name": "python",
   "nbconvert_exporter": "python",
   "pygments_lexer": "ipython2",
   "version": "2.7.6"
  }
 },
 "nbformat": 4,
 "nbformat_minor": 5
}
