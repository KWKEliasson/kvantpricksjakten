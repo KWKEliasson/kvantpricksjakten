{
 "cells": [
  {
   "cell_type": "code",
   "execution_count": 1,
   "id": "initial_id",
   "metadata": {
    "collapsed": true,
    "ExecuteTime": {
     "end_time": "2024-10-02T15:37:42.043178Z",
     "start_time": "2024-10-02T15:37:41.682434Z"
    }
   },
   "outputs": [],
   "source": [
    "from CQD import CQDCollection\n",
    "from openpyxl import Workbook"
   ]
  },
  {
   "cell_type": "code",
   "outputs": [
    {
     "name": "stdout",
     "output_type": "stream",
     "text": [
      "Could not find sheet Sheet4 in QCD1 workbook\n",
      "Could not find sheet Sheet3 in QCD2 workbook\n"
     ]
    }
   ],
   "source": [
    "collection = CQDCollection.read_from_dir('RawData')\n",
    "samples = collection.samples\n",
    "s_with_data = []\n",
    "_ = [s_with_data.append(x) for x in samples if len(x.spectra)]\n",
    "#def has_spectra(x):\n",
    "#    return len(x.spectra) != 0\n",
    "#s_with_data = list(filter(has_spectra, samples))"
   ],
   "metadata": {
    "collapsed": false,
    "ExecuteTime": {
     "end_time": "2024-10-02T15:37:42.914400Z",
     "start_time": "2024-10-02T15:37:42.046410Z"
    }
   },
   "id": "ab6781e64dce2962",
   "execution_count": 2
  },
  {
   "cell_type": "code",
   "outputs": [
    {
     "name": "stdout",
     "output_type": "stream",
     "text": [
      "72 samples have spectra!\n",
      "8 unique klasses found!\n"
     ]
    }
   ],
   "source": [
    "print('{} samples have spectra!'.format(len(s_with_data)))\n",
    "\n",
    "u_klass = []\n",
    "[u_klass.append(x.klass) for x in s_with_data if x.klass not in u_klass and len(x.spectra)]\n",
    "print('{} unique klasses found!'.format(len(u_klass)))"
   ],
   "metadata": {
    "collapsed": false,
    "ExecuteTime": {
     "end_time": "2024-10-02T15:37:42.919557Z",
     "start_time": "2024-10-02T15:37:42.914774Z"
    }
   },
   "id": "156b2e46a60c0bf9",
   "execution_count": 3
  },
  {
   "cell_type": "code",
   "outputs": [],
   "source": [
    "for k in u_klass:\n",
    "    wb = Workbook()\n",
    "    del wb['Sheet']\n",
    "    i = 0\n",
    "    for samp in filter(lambda x: x.klass == k, samples):\n",
    "        samp.write_work_sheet(wb)\n",
    "        #i += 1\n",
    "        #if i > 2: break\n",
    "    wb.save('OutputFiles/{}.xlsx'.format(k))\n",
    "    wb.close()\n",
    "    #break"
   ],
   "metadata": {
    "collapsed": false,
    "ExecuteTime": {
     "end_time": "2024-10-02T15:37:45.307367Z",
     "start_time": "2024-10-02T15:37:42.918825Z"
    }
   },
   "id": "2c474335fc3cf75a",
   "execution_count": 4
  },
  {
   "cell_type": "code",
   "outputs": [],
   "source": [],
   "metadata": {
    "collapsed": false,
    "ExecuteTime": {
     "end_time": "2024-10-02T15:37:45.312718Z",
     "start_time": "2024-10-02T15:37:45.309852Z"
    }
   },
   "id": "f214362c2112be4f",
   "execution_count": 4
  }
 ],
 "metadata": {
  "kernelspec": {
   "display_name": "Python 3",
   "language": "python",
   "name": "python3"
  },
  "language_info": {
   "codemirror_mode": {
    "name": "ipython",
    "version": 2
   },
   "file_extension": ".py",
   "mimetype": "text/x-python",
   "name": "python",
   "nbconvert_exporter": "python",
   "pygments_lexer": "ipython2",
   "version": "2.7.6"
  }
 },
 "nbformat": 4,
 "nbformat_minor": 5
}
